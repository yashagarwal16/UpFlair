{
 "cells": [
  {
   "cell_type": "code",
   "execution_count": null,
   "id": "f57f1287",
   "metadata": {},
   "outputs": [
    {
     "name": "stdout",
     "output_type": "stream",
     "text": [
      "John\n",
      "Jane\n"
     ]
    }
   ],
   "source": [
    "class Father:\n",
    "    def __init__(self):\n",
    "        self.father_name = \"manoj\"\n",
    "\n",
    "class Mother:\n",
    "    def __init__(self):\n",
    "        self.mother_name = \"Jane\"\n",
    "\n",
    "class Child(Father, Mother):\n",
    "    def __init__(self):\n",
    "        Father.__init__(self)\n",
    "        Mother.__init__(self)\n",
    "\n",
    "child = Child()\n",
    "print(child.father_name)\n",
    "print(child.mother_name)\n"
   ]
  },
  {
   "cell_type": "code",
   "execution_count": null,
   "id": "55113459",
   "metadata": {},
   "outputs": [],
   "source": []
  }
 ],
 "metadata": {
  "kernelspec": {
   "display_name": "Python 3",
   "language": "python",
   "name": "python3"
  },
  "language_info": {
   "codemirror_mode": {
    "name": "ipython",
    "version": 3
   },
   "file_extension": ".py",
   "mimetype": "text/x-python",
   "name": "python",
   "nbconvert_exporter": "python",
   "pygments_lexer": "ipython3",
   "version": "3.10.16"
  }
 },
 "nbformat": 4,
 "nbformat_minor": 5
}
