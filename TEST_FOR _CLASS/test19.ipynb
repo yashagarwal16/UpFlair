{
 "cells": [
  {
   "cell_type": "code",
   "execution_count": 1,
   "id": "b1a617d7",
   "metadata": {},
   "outputs": [],
   "source": [
    "class Student:\n",
    "    def __init__(self):\n",
    "        self.__marks = 0\n",
    "\n",
    "    def set_marks(self, marks):\n",
    "        self.__marks = marks\n",
    "\n",
    "    def get_marks(self):\n",
    "        return self.__marks\n"
   ]
  },
  {
   "cell_type": "code",
   "execution_count": null,
   "id": "0170aedc",
   "metadata": {},
   "outputs": [],
   "source": []
  }
 ],
 "metadata": {
  "kernelspec": {
   "display_name": "Python 3",
   "language": "python",
   "name": "python3"
  },
  "language_info": {
   "codemirror_mode": {
    "name": "ipython",
    "version": 3
   },
   "file_extension": ".py",
   "mimetype": "text/x-python",
   "name": "python",
   "nbconvert_exporter": "python",
   "pygments_lexer": "ipython3",
   "version": "3.10.16"
  }
 },
 "nbformat": 4,
 "nbformat_minor": 5
}
